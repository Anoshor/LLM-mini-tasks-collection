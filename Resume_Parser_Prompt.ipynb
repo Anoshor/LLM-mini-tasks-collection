{
  "nbformat": 4,
  "nbformat_minor": 0,
  "metadata": {
    "colab": {
      "provenance": []
    },
    "kernelspec": {
      "name": "python3",
      "display_name": "Python 3"
    },
    "language_info": {
      "name": "python"
    }
  },
  "cells": [
    {
      "cell_type": "code",
      "execution_count": 1,
      "metadata": {
        "colab": {
          "base_uri": "https://localhost:8080/"
        },
        "id": "AXpWLvMYX6Kf",
        "outputId": "47028d93-d36a-4200-ba48-e30ee4194198"
      },
      "outputs": [
        {
          "output_type": "stream",
          "name": "stdout",
          "text": [
            "Collecting pymupdf\n",
            "  Downloading PyMuPDF-1.24.7-cp310-none-manylinux2014_x86_64.whl (3.5 MB)\n",
            "\u001b[2K     \u001b[90m━━━━━━━━━━━━━━━━━━━━━━━━━━━━━━━━━━━━━━━━\u001b[0m \u001b[32m3.5/3.5 MB\u001b[0m \u001b[31m9.0 MB/s\u001b[0m eta \u001b[36m0:00:00\u001b[0m\n",
            "\u001b[?25hCollecting openai\n",
            "  Downloading openai-1.36.0-py3-none-any.whl (328 kB)\n",
            "\u001b[2K     \u001b[90m━━━━━━━━━━━━━━━━━━━━━━━━━━━━━━━━━━━━━━━━\u001b[0m \u001b[32m328.7/328.7 kB\u001b[0m \u001b[31m10.6 MB/s\u001b[0m eta \u001b[36m0:00:00\u001b[0m\n",
            "\u001b[?25hCollecting PyMuPDFb==1.24.6 (from pymupdf)\n",
            "  Downloading PyMuPDFb-1.24.6-py3-none-manylinux2014_x86_64.manylinux_2_17_x86_64.whl (15.7 MB)\n",
            "\u001b[2K     \u001b[90m━━━━━━━━━━━━━━━━━━━━━━━━━━━━━━━━━━━━━━━━\u001b[0m \u001b[32m15.7/15.7 MB\u001b[0m \u001b[31m30.1 MB/s\u001b[0m eta \u001b[36m0:00:00\u001b[0m\n",
            "\u001b[?25hRequirement already satisfied: anyio<5,>=3.5.0 in /usr/local/lib/python3.10/dist-packages (from openai) (3.7.1)\n",
            "Requirement already satisfied: distro<2,>=1.7.0 in /usr/lib/python3/dist-packages (from openai) (1.7.0)\n",
            "Collecting httpx<1,>=0.23.0 (from openai)\n",
            "  Downloading httpx-0.27.0-py3-none-any.whl (75 kB)\n",
            "\u001b[2K     \u001b[90m━━━━━━━━━━━━━━━━━━━━━━━━━━━━━━━━━━━━━━━━\u001b[0m \u001b[32m75.6/75.6 kB\u001b[0m \u001b[31m7.4 MB/s\u001b[0m eta \u001b[36m0:00:00\u001b[0m\n",
            "\u001b[?25hRequirement already satisfied: pydantic<3,>=1.9.0 in /usr/local/lib/python3.10/dist-packages (from openai) (2.8.2)\n",
            "Requirement already satisfied: sniffio in /usr/local/lib/python3.10/dist-packages (from openai) (1.3.1)\n",
            "Requirement already satisfied: tqdm>4 in /usr/local/lib/python3.10/dist-packages (from openai) (4.66.4)\n",
            "Requirement already satisfied: typing-extensions<5,>=4.7 in /usr/local/lib/python3.10/dist-packages (from openai) (4.12.2)\n",
            "Requirement already satisfied: idna>=2.8 in /usr/local/lib/python3.10/dist-packages (from anyio<5,>=3.5.0->openai) (3.7)\n",
            "Requirement already satisfied: exceptiongroup in /usr/local/lib/python3.10/dist-packages (from anyio<5,>=3.5.0->openai) (1.2.2)\n",
            "Requirement already satisfied: certifi in /usr/local/lib/python3.10/dist-packages (from httpx<1,>=0.23.0->openai) (2024.7.4)\n",
            "Collecting httpcore==1.* (from httpx<1,>=0.23.0->openai)\n",
            "  Downloading httpcore-1.0.5-py3-none-any.whl (77 kB)\n",
            "\u001b[2K     \u001b[90m━━━━━━━━━━━━━━━━━━━━━━━━━━━━━━━━━━━━━━━━\u001b[0m \u001b[32m77.9/77.9 kB\u001b[0m \u001b[31m8.4 MB/s\u001b[0m eta \u001b[36m0:00:00\u001b[0m\n",
            "\u001b[?25hCollecting h11<0.15,>=0.13 (from httpcore==1.*->httpx<1,>=0.23.0->openai)\n",
            "  Downloading h11-0.14.0-py3-none-any.whl (58 kB)\n",
            "\u001b[2K     \u001b[90m━━━━━━━━━━━━━━━━━━━━━━━━━━━━━━━━━━━━━━━━\u001b[0m \u001b[32m58.3/58.3 kB\u001b[0m \u001b[31m5.2 MB/s\u001b[0m eta \u001b[36m0:00:00\u001b[0m\n",
            "\u001b[?25hRequirement already satisfied: annotated-types>=0.4.0 in /usr/local/lib/python3.10/dist-packages (from pydantic<3,>=1.9.0->openai) (0.7.0)\n",
            "Requirement already satisfied: pydantic-core==2.20.1 in /usr/local/lib/python3.10/dist-packages (from pydantic<3,>=1.9.0->openai) (2.20.1)\n",
            "Installing collected packages: PyMuPDFb, h11, pymupdf, httpcore, httpx, openai\n",
            "Successfully installed PyMuPDFb-1.24.6 h11-0.14.0 httpcore-1.0.5 httpx-0.27.0 openai-1.36.0 pymupdf-1.24.7\n"
          ]
        }
      ],
      "source": [
        "!pip install pymupdf openai"
      ]
    },
    {
      "cell_type": "code",
      "source": [
        "import fitz  # PyMuPDF\n",
        "import openai\n",
        "import json"
      ],
      "metadata": {
        "id": "ZZjqwFCgX_mn"
      },
      "execution_count": 2,
      "outputs": []
    },
    {
      "cell_type": "code",
      "source": [
        "from openai import OpenAI\n",
        "\n",
        "from google.colab import userdata\n",
        "sk = userdata.get('sk')\n",
        "client = OpenAI(\n",
        "    api_key=sk,\n",
        ")"
      ],
      "metadata": {
        "id": "bktldSPNYkFJ"
      },
      "execution_count": 5,
      "outputs": []
    },
    {
      "cell_type": "code",
      "source": [
        "def extract_text_from_pdf(pdf_path):\n",
        "    doc = fitz.open(pdf_path)\n",
        "    text = \"\"\n",
        "    for page in doc:\n",
        "        text += page.get_text()\n",
        "    return text\n",
        "\n",
        "def parse_resume_to_json(resume_text):\n",
        "    prompt = f\"\"\"\n",
        "    Please take the following resume text as input and parse the content into JSON format with the following structure:\n",
        "\n",
        "    {{\n",
        "      \"name\": \"Full Name\",\n",
        "      \"contact_information\": {{\n",
        "        \"email\": \"Email Address\",\n",
        "        \"phone\": \"Phone Number\",\n",
        "        \"linkedin\": \"Full Address\"\n",
        "      }},\n",
        "      \"summary\": \"Profile\",\n",
        "      \"experience\": [\n",
        "        {{\n",
        "          \"job_title\": \"Job Title\",\n",
        "          \"company\": \"Company Name\",\n",
        "          \"location\": \"Location\",\n",
        "          \"dates\": {{\n",
        "            \"start\": \"Start Date\",\n",
        "            \"end\": \"End Date\"\n",
        "          }},\n",
        "        }}\n",
        "      ],\n",
        "      \"education\": [\n",
        "        {{\n",
        "          \"degree\": \"Degree\",\n",
        "          \"institution\": \"Institution Name\",\n",
        "          \"CGPA\": \"cgpa\",\n",
        "          \"dates\": {{\n",
        "            \"start\": \"Start Date\",\n",
        "            \"end\": \"End Date\"\n",
        "          }},\n",
        "          \"details\": [\n",
        "            \"Detail 1\",\n",
        "            \"Detail 2\"\n",
        "          ]\n",
        "        }}\n",
        "      ],\n",
        "      \"skills\": [\n",
        "        \"Skill 1\",\n",
        "        \"Skill 2\",\n",
        "        \"Skill 3\"\n",
        "      ],\n",
        "      \"certifications\": [\n",
        "        {{\n",
        "          \"title\": \"Certification Title\",\n",
        "        }}\n",
        "      ],\n",
        "      \"projects\": [\n",
        "        {{\n",
        "          \"title\": \"Project Title\",\n",
        "          \"description\": \"Project Description\",\n",
        "          \"technologies\": [\n",
        "            \"Technology 1\",\n",
        "            \"Technology 2\"\n",
        "          ],\n",
        "          \"link\": \"Project Link\"\n",
        "        }}\n",
        "      ]\n",
        "    }}\n",
        "\n",
        "    Here is the resume text:\n",
        "\n",
        "    {resume_text}\n",
        "    \"\"\"\n",
        "\n",
        "    response = client.chat.completions.create(\n",
        "        model=\"gpt-3.5-turbo\",\n",
        "        messages=[\n",
        "            {\"role\": \"system\", \"content\": \"You are an assistant that formats resume text into JSON.\"},\n",
        "            {\"role\": \"user\", \"content\": prompt}\n",
        "        ],\n",
        "        max_tokens=1500\n",
        "    )\n",
        "\n",
        "    return json.loads(response.choices[0].message.content.strip())"
      ],
      "metadata": {
        "id": "kYuVOm_NYEj8"
      },
      "execution_count": 13,
      "outputs": []
    },
    {
      "cell_type": "code",
      "source": [
        "# Example usage\n",
        "pdf_path = \"/content/AnoshorPaul_resume.pdf\"\n",
        "resume_text = extract_text_from_pdf(pdf_path)\n",
        "parsed_resume = parse_resume_to_json(resume_text)\n",
        "print(json.dumps(parsed_resume, indent=4))"
      ],
      "metadata": {
        "colab": {
          "base_uri": "https://localhost:8080/"
        },
        "id": "qega9BC2ZFUh",
        "outputId": "8c84b7a9-5442-466b-a477-9fb296bf3be3"
      },
      "execution_count": 14,
      "outputs": [
        {
          "output_type": "stream",
          "name": "stdout",
          "text": [
            "{\n",
            "    \"name\": \"Anoshor B. Paul\",\n",
            "    \"contact_information\": {\n",
            "        \"email\": \"anoshorpaul@gmail.com\",\n",
            "        \"phone\": \"+916901745029\",\n",
            "        \"linkedin\": \"linkedin.com/in/anoshor-paul-2aa5b0229\"\n",
            "    },\n",
            "    \"summary\": \"Actively seeking a role and experience focused on continually enhancing knowledge and skills while tackling challenging projects that demand the application of coding prowess and problem-solving abilities. Enjoy solving DSA questions to maintain consistency and discipline; have a rating of 1950+ (Top 4%) on LeetCode.\",\n",
            "    \"experience\": [\n",
            "        {\n",
            "            \"job_title\": \"LLM Project Intern\",\n",
            "            \"company\": \"Samsung R&D (PRISM Project)\",\n",
            "            \"location\": \"Bengaluru, India\",\n",
            "            \"dates\": {\n",
            "                \"start\": \"Feb 2024\",\n",
            "                \"end\": \"June 2024\"\n",
            "            }\n",
            "        }\n",
            "    ],\n",
            "    \"education\": [\n",
            "        {\n",
            "            \"degree\": \"B.E. in Computer Science\",\n",
            "            \"institution\": \"B.M.S. College of Engineering\",\n",
            "            \"CGPA\": \"9.50\",\n",
            "            \"dates\": {\n",
            "                \"start\": \"\",\n",
            "                \"end\": \"\"\n",
            "            },\n",
            "            \"details\": []\n",
            "        }\n",
            "    ],\n",
            "    \"skills\": [\n",
            "        \"Python\",\n",
            "        \"C/C++\",\n",
            "        \"Java\",\n",
            "        \"JavaScript\",\n",
            "        \"SQL\",\n",
            "        \"TensorFlow\",\n",
            "        \"PyTorch\",\n",
            "        \"Keras\",\n",
            "        \"Scikit-learn\",\n",
            "        \"OpenCV\"\n",
            "    ],\n",
            "    \"certifications\": [\n",
            "        {\n",
            "            \"title\": \"Google Advanced Data Analytics Professional Certificate\"\n",
            "        }\n",
            "    ],\n",
            "    \"projects\": [\n",
            "        {\n",
            "            \"title\": \"Local language Scene Text Detection Model\",\n",
            "            \"description\": \"Published a Research Paper on the domain of Deep Learning. Built an own custom dataset. Increased the previous accuracy by 10%.\",\n",
            "            \"technologies\": [\n",
            "                \"Deep Learning\"\n",
            "            ],\n",
            "            \"link\": \"https://ieeexplore.ieee.org/abstract/document/10499106\"\n",
            "        },\n",
            "        {\n",
            "            \"title\": \"Simon's Game using Socket Programming\",\n",
            "            \"description\": \"Built a 2-player game using pygame module and socket programming concepts. Skills learned: Multithreading, Socket Programming, TCP/IP Communication.\",\n",
            "            \"technologies\": [\n",
            "                \"Socket Programming\",\n",
            "                \"pygame\"\n",
            "            ],\n",
            "            \"link\": \"\"\n",
            "        },\n",
            "        {\n",
            "            \"title\": \"User Churn Prediction \\u2013 Google Certification Project\",\n",
            "            \"description\": \"Developed a churn prediction model to help prevent churn and improve user retention. Exploratory data analysis, Data visualization, Data Cleaning, Statistical Analysis and hypothesis testing, Machine Learning models, MLOps.\",\n",
            "            \"technologies\": [\n",
            "                \"Machine Learning\",\n",
            "                \"Data Analysis\"\n",
            "            ],\n",
            "            \"link\": \"\"\n",
            "        },\n",
            "        {\n",
            "            \"title\": \"GeoGuide Bot for E-Yantra Robotics Competition 2023-24\",\n",
            "            \"description\": \"Project for EYRC 2023-24 under IIT-B \\u2013 GeoGuide theme [Ranked top 30 globally]. Customized Neural Network, Image Capture, Path Planning.\",\n",
            "            \"technologies\": [\n",
            "                \"Deep Learning\",\n",
            "                \"OpenCV\",\n",
            "                \"ML Algorithms\",\n",
            "                \"Python\",\n",
            "                \"Linux\"\n",
            "            ],\n",
            "            \"link\": \"\"\n",
            "        }\n",
            "    ]\n",
            "}\n"
          ]
        }
      ]
    },
    {
      "cell_type": "code",
      "source": [],
      "metadata": {
        "id": "HDnOPz0SZMZ7"
      },
      "execution_count": null,
      "outputs": []
    }
  ]
}